{
 "cells": [
  {
   "cell_type": "code",
   "execution_count": 2,
   "id": "90e81f19-aec2-4270-9a26-7bc6d5a9c12a",
   "metadata": {},
   "outputs": [],
   "source": [
    "import pandas as pd\n",
    "import numpy as np\n",
    "from sklearn.model_selection import train_test_split\n",
    "from sklearn.ensemble import RandomForestClassifier\n",
    "from sklearn.metrics import roc_auc_score\n",
    "from sklearn.preprocessing import StandardScaler\n",
    "from sklearn.pipeline import Pipeline\n",
    "\n",
    "# Load datasets\n",
    "train_identity = pd.read_csv('D:/MLPR/ieee/train_identity.csv')\n",
    "train_transaction = pd.read_csv('D:/MLPR/ieee/train_transaction.csv')\n",
    "test_identity = pd.read_csv('D:/MLPR/ieee/test_identity.csv')\n",
    "test_transaction = pd.read_csv('D:/MLPR/ieee/test_transaction.csv')\n"
   ]
  },
  {
   "cell_type": "code",
   "execution_count": 4,
   "id": "ebeed767-db49-44bf-a712-6f7ec2ca5ab9",
   "metadata": {},
   "outputs": [],
   "source": [
    "# Merge training datasets\n",
    "train_data = pd.merge(train_transaction, train_identity, on='TransactionID', how='left')\n",
    "\n",
    "# Merge test datasets\n",
    "test_data = pd.merge(test_transaction, test_identity, on='TransactionID', how='left')\n"
   ]
  },
  {
   "cell_type": "code",
   "execution_count": 5,
   "id": "a792f2a8-5732-405a-9039-d6304b2bd051",
   "metadata": {},
   "outputs": [],
   "source": [
    "# Fill missing values\n",
    "train_data.fillna(-999, inplace=True)\n",
    "test_data.fillna(-999, inplace=True)\n",
    "\n",
    "# Convert categorical features to numerical\n",
    "categorical_features = ['DeviceType', 'DeviceInfo']  # Add more categorical features if needed\n",
    "for feature in categorical_features:\n",
    "    train_data[feature] = train_data[feature].astype('category').cat.codes\n",
    "    test_data[feature] = test_data[feature].astype('category').cat.codes\n",
    "\n",
    "# Define features and target variable\n",
    "X = train_data.drop(columns=['TransactionID', 'isFraud'])\n",
    "y = train_data['isFraud']\n",
    "X_test = test_data.drop(columns=['TransactionID'])\n"
   ]
  },
  {
   "cell_type": "code",
   "execution_count": 6,
   "id": "f78ca78e-f0cb-4d9e-8f00-c65e64160d64",
   "metadata": {},
   "outputs": [],
   "source": [
    "X_train, X_val, y_train, y_val = train_test_split(X, y, test_size=0.2, random_state=42)"
   ]
  },
  {
   "cell_type": "code",
   "execution_count": 9,
   "id": "4dc6b676-4afa-4340-9d16-4c84971e2707",
   "metadata": {},
   "outputs": [
    {
     "name": "stdout",
     "output_type": "stream",
     "text": [
      "TransactionID      int64\n",
      "id_01            float64\n",
      "id_02            float64\n",
      "id_03            float64\n",
      "id_04            float64\n",
      "id_05            float64\n",
      "id_06            float64\n",
      "id_07            float64\n",
      "id_08            float64\n",
      "id_09            float64\n",
      "id_10            float64\n",
      "id_11            float64\n",
      "id_12             object\n",
      "id_13            float64\n",
      "id_14            float64\n",
      "id_15             object\n",
      "id_16             object\n",
      "id_17            float64\n",
      "id_18            float64\n",
      "id_19            float64\n",
      "id_20            float64\n",
      "id_21            float64\n",
      "id_22            float64\n",
      "id_23             object\n",
      "id_24            float64\n",
      "id_25            float64\n",
      "id_26            float64\n",
      "id_27             object\n",
      "id_28             object\n",
      "id_29             object\n",
      "id_30             object\n",
      "id_31             object\n",
      "id_32            float64\n",
      "id_33             object\n",
      "id_34             object\n",
      "id_35             object\n",
      "id_36             object\n",
      "id_37             object\n",
      "id_38             object\n",
      "DeviceType        object\n",
      "DeviceInfo        object\n",
      "dtype: object\n",
      "TransactionID       int64\n",
      "isFraud             int64\n",
      "TransactionDT       int64\n",
      "TransactionAmt    float64\n",
      "ProductCD          object\n",
      "                   ...   \n",
      "V335              float64\n",
      "V336              float64\n",
      "V337              float64\n",
      "V338              float64\n",
      "V339              float64\n",
      "Length: 394, dtype: object\n"
     ]
    }
   ],
   "source": [
    "print(train_identity.dtypes)\n",
    "print(train_transaction.dtypes)"
   ]
  },
  {
   "cell_type": "code",
   "execution_count": 12,
   "id": "5ed942dc-17b2-416b-8a46-95e6f33c0bc6",
   "metadata": {},
   "outputs": [
    {
     "name": "stdout",
     "output_type": "stream",
     "text": [
      "Training Data Columns:\n",
      "Index(['TransactionDT', 'TransactionAmt', 'ProductCD', 'card1', 'card2',\n",
      "       'card3', 'card4', 'card5', 'card6', 'addr1',\n",
      "       ...\n",
      "       'id_31', 'id_32', 'id_33', 'id_34', 'id_35', 'id_36', 'id_37', 'id_38',\n",
      "       'DeviceType', 'DeviceInfo'],\n",
      "      dtype='object', length=432)\n",
      "\n",
      "Testing Data Columns:\n",
      "Index(['TransactionDT', 'TransactionAmt', 'ProductCD', 'card1', 'card2',\n",
      "       'card3', 'card4', 'card5', 'card6', 'addr1',\n",
      "       ...\n",
      "       'id-31', 'id-32', 'id-33', 'id-34', 'id-35', 'id-36', 'id-37', 'id-38',\n",
      "       'DeviceType', 'DeviceInfo'],\n",
      "      dtype='object', length=432)\n",
      "\n",
      "Columns in training data but not in testing data: {'id_29', 'id_03', 'id_13', 'id_25', 'id_21', 'id_26', 'id_36', 'id_38', 'id_17', 'id_35', 'id_31', 'id_12', 'id_18', 'id_27', 'id_28', 'id_33', 'id_15', 'id_01', 'id_07', 'id_22', 'id_20', 'id_16', 'id_30', 'id_02', 'id_05', 'id_08', 'id_19', 'id_06', 'id_10', 'id_24', 'id_23', 'id_04', 'id_34', 'id_11', 'id_32', 'id_09', 'id_14', 'id_37'}\n",
      "Columns in testing data but not in training data: {'id-09', 'id-08', 'id-18', 'id-33', 'id-32', 'id-24', 'id-13', 'id-36', 'id-14', 'id-12', 'id-19', 'id-26', 'id-16', 'id-15', 'id-35', 'id-31', 'id-30', 'id-03', 'id-28', 'id-01', 'id-11', 'id-23', 'id-21', 'id-25', 'id-10', 'id-04', 'id-38', 'id-05', 'id-22', 'id-20', 'id-06', 'id-29', 'id-34', 'id-02', 'id-37', 'id-07', 'id-17', 'id-27'}\n"
     ]
    }
   ],
   "source": [
    "# Check columns in both DataFrames\n",
    "print(\"Training Data Columns:\")\n",
    "print(X.columns)\n",
    "print(\"\\nTesting Data Columns:\")\n",
    "print(X_test.columns)\n",
    "\n",
    "# Find columns present in one DataFrame but not the other\n",
    "missing_in_test = set(X.columns) - set(X_test.columns)\n",
    "missing_in_train = set(X_test.columns) - set(X.columns)\n",
    "\n",
    "print(f\"\\nColumns in training data but not in testing data: {missing_in_test}\")\n",
    "print(f\"Columns in testing data but not in training data: {missing_in_train}\")"
   ]
  },
  {
   "cell_type": "code",
   "execution_count": 13,
   "id": "5883405c-eb97-404d-be32-88a099602473",
   "metadata": {},
   "outputs": [
    {
     "name": "stdout",
     "output_type": "stream",
     "text": [
      "Aligned Testing Data Columns:\n",
      "Index(['TransactionDT', 'TransactionAmt', 'ProductCD', 'card1', 'card2',\n",
      "       'card3', 'card4', 'card5', 'card6', 'addr1',\n",
      "       ...\n",
      "       'id_31', 'id_32', 'id_33', 'id_34', 'id_35', 'id_36', 'id_37', 'id_38',\n",
      "       'DeviceType', 'DeviceInfo'],\n",
      "      dtype='object', length=432)\n"
     ]
    }
   ],
   "source": [
    "# Align columns\n",
    "X_test = X_test.reindex(columns=X.columns, fill_value=-999)\n",
    "\n",
    "# Verify columns\n",
    "print(\"Aligned Testing Data Columns:\")\n",
    "print(X_test.columns)\n"
   ]
  },
  {
   "cell_type": "code",
   "execution_count": 14,
   "id": "7f0004d0-ac7f-459a-af18-6e8829405b6e",
   "metadata": {},
   "outputs": [
    {
     "name": "stdout",
     "output_type": "stream",
     "text": [
      "Non-numeric columns: Index(['id_15', 'id_16', 'id_23', 'id_27', 'id_28', 'id_29', 'id_30', 'id_31',\n",
      "       'id_33', 'id_34', 'id_35', 'id_36', 'id_37', 'id_38'],\n",
      "      dtype='object')\n",
      "TransactionDT       int64\n",
      "TransactionAmt    float64\n",
      "ProductCD            int8\n",
      "card1               int64\n",
      "card2             float64\n",
      "                   ...   \n",
      "id_36                int8\n",
      "id_37                int8\n",
      "id_38                int8\n",
      "DeviceType           int8\n",
      "DeviceInfo          int16\n",
      "Length: 432, dtype: object\n",
      "TransactionDT       int64\n",
      "TransactionAmt    float64\n",
      "ProductCD            int8\n",
      "card1               int64\n",
      "card2             float64\n",
      "                   ...   \n",
      "id_36                int8\n",
      "id_37                int8\n",
      "id_38                int8\n",
      "DeviceType           int8\n",
      "DeviceInfo          int16\n",
      "Length: 432, dtype: object\n"
     ]
    }
   ],
   "source": [
    "# Identify columns with non-numeric data\n",
    "non_numeric_columns = X.select_dtypes(include=['object']).columns\n",
    "print(f\"Non-numeric columns: {non_numeric_columns}\")\n",
    "\n",
    "# Convert categorical features to numeric\n",
    "for feature in non_numeric_columns:\n",
    "    if feature in X.columns:\n",
    "        X[feature] = X[feature].astype('category').cat.codes\n",
    "    if feature in X_test.columns:\n",
    "        X_test[feature] = X_test[feature].astype('category').cat.codes\n",
    "\n",
    "# Fill remaining missing values\n",
    "X.fillna(-999, inplace=True)\n",
    "X_test.fillna(-999, inplace=True)\n",
    "\n",
    "# Ensure that all data is numeric\n",
    "print(X.dtypes)\n",
    "print(X_test.dtypes)"
   ]
  },
  {
   "cell_type": "code",
   "execution_count": 17,
   "id": "8e0ff603-657b-4a72-8b9b-f7dbaad1e59d",
   "metadata": {},
   "outputs": [
    {
     "name": "stdout",
     "output_type": "stream",
     "text": [
      "X Data Types:\n",
      "TransactionDT       int64\n",
      "TransactionAmt    float64\n",
      "ProductCD            int8\n",
      "card1               int64\n",
      "card2             float64\n",
      "                   ...   \n",
      "id_36                int8\n",
      "id_37                int8\n",
      "id_38                int8\n",
      "DeviceType           int8\n",
      "DeviceInfo          int16\n",
      "Length: 432, dtype: object\n",
      "\n",
      "X_test Data Types:\n",
      "TransactionDT       int64\n",
      "TransactionAmt    float64\n",
      "ProductCD            int8\n",
      "card1               int64\n",
      "card2             float64\n",
      "                   ...   \n",
      "id-36                int8\n",
      "id-37                int8\n",
      "id-38                int8\n",
      "DeviceType           int8\n",
      "DeviceInfo          int16\n",
      "Length: 432, dtype: object\n"
     ]
    }
   ],
   "source": [
    "# Convert categorical features to numeric in X\n",
    "for feature in non_numeric_columns_X:\n",
    "    if feature in X.columns:\n",
    "        X[feature] = X[feature].astype('category').cat.codes\n",
    "\n",
    "# Convert categorical features to numeric in X_test\n",
    "for feature in non_numeric_columns_X_test:\n",
    "    if feature in X_test.columns:\n",
    "        X_test[feature] = X_test[feature].astype('category').cat.codes\n",
    "\n",
    "# Fill remaining missing values\n",
    "X.fillna(-999, inplace=True)\n",
    "X_test.fillna(-999, inplace=True)\n",
    "\n",
    "# Verify that all data is numeric\n",
    "print(\"X Data Types:\")\n",
    "print(X.dtypes)\n",
    "print(\"\\nX_test Data Types:\")\n",
    "print(X_test.dtypes)"
   ]
  },
  {
   "cell_type": "code",
   "execution_count": 19,
   "id": "3fb02c49-de5f-4552-a794-eefd7fe7b941",
   "metadata": {},
   "outputs": [
    {
     "name": "stdout",
     "output_type": "stream",
     "text": [
      "Non-numeric columns in X: Index([], dtype='object')\n",
      "Non-numeric columns in X_test: Index([], dtype='object')\n"
     ]
    }
   ],
   "source": [
    "# Ensure consistency in column names\n",
    "X.columns = X.columns.str.replace('-', '_', regex=False)\n",
    "X_test.columns = X_test.columns.str.replace('-', '_', regex=False)\n",
    "\n",
    "# Re-check non-numeric columns after renaming\n",
    "non_numeric_columns_X = X.select_dtypes(include=['object']).columns\n",
    "non_numeric_columns_X_test = X_test.select_dtypes(include=['object']).columns\n",
    "\n",
    "print(f\"Non-numeric columns in X: {non_numeric_columns_X}\")\n",
    "print(f\"Non-numeric columns in X_test: {non_numeric_columns_X_test}\")"
   ]
  },
  {
   "cell_type": "code",
   "execution_count": 20,
   "id": "a5cd776f-ed12-4e86-a3fc-68832281befc",
   "metadata": {},
   "outputs": [
    {
     "name": "stdout",
     "output_type": "stream",
     "text": [
      "Columns in X and X_test match.\n"
     ]
    }
   ],
   "source": [
    "# Check if columns in X_test match those in X\n",
    "if X.columns.equals(X_test.columns):\n",
    "    print(\"Columns in X and X_test match.\")\n",
    "else:\n",
    "    missing_cols = [col for col in X.columns if col not in X_test.columns]\n",
    "    extra_cols = [col for col in X_test.columns if col not in X.columns]\n",
    "\n",
    "    print(f\"Missing columns in X_test: {missing_cols}\")\n",
    "    print(f\"Extra columns in X_test: {extra_cols}\")"
   ]
  },
  {
   "cell_type": "code",
   "execution_count": 22,
   "id": "030f8945-b016-4648-baf0-b5b591c94ff7",
   "metadata": {},
   "outputs": [
    {
     "name": "stdout",
     "output_type": "stream",
     "text": [
      "Non-numeric columns in X: Index(['ProductCD', 'card4', 'card6', 'P_emaildomain', 'R_emaildomain', 'M1',\n",
      "       'M2', 'M3', 'M4', 'M5', 'M6', 'M7', 'M8', 'M9', 'id_12', 'id_15',\n",
      "       'id_16', 'id_23', 'id_27', 'id_28', 'id_29', 'id_30', 'id_31', 'id_33',\n",
      "       'id_34', 'id_35', 'id_36', 'id_37', 'id_38'],\n",
      "      dtype='object')\n",
      "Non-numeric columns in X_test: Index(['ProductCD', 'card4', 'card6', 'P_emaildomain', 'R_emaildomain', 'M1',\n",
      "       'M2', 'M3', 'M4', 'M5', 'M6', 'M7', 'M8', 'M9', 'id_12', 'id_15',\n",
      "       'id_16', 'id_23', 'id_27', 'id_28', 'id_29', 'id_30', 'id_31', 'id_33',\n",
      "       'id_34', 'id_35', 'id_36', 'id_37', 'id_38'],\n",
      "      dtype='object')\n",
      "Columns in X and X_test match.\n",
      "Validation AUC Score: 0.9346783032634545\n"
     ]
    }
   ],
   "source": [
    "import pandas as pd\n",
    "from sklearn.ensemble import RandomForestClassifier\n",
    "from sklearn.metrics import roc_auc_score\n",
    "from sklearn.model_selection import train_test_split\n",
    "\n",
    "# Load train_data and test_data (assuming they are already loaded)\n",
    "\n",
    "# Define features and target variable\n",
    "X = train_data.drop(columns=['TransactionID', 'isFraud'])\n",
    "y = train_data['isFraud']\n",
    "X_test = test_data.drop(columns=['TransactionID'])\n",
    "\n",
    "# Ensure consistency in column names\n",
    "X.columns = X.columns.str.replace('-', '_', regex=False)\n",
    "X_test.columns = X_test.columns.str.replace('-', '_', regex=False)\n",
    "\n",
    "# Identify non-numeric columns\n",
    "non_numeric_columns_X = X.select_dtypes(include=['object']).columns\n",
    "non_numeric_columns_X_test = X_test.select_dtypes(include=['object']).columns\n",
    "\n",
    "print(f\"Non-numeric columns in X: {non_numeric_columns_X}\")\n",
    "print(f\"Non-numeric columns in X_test: {non_numeric_columns_X_test}\")\n",
    "\n",
    "# Convert categorical features to numeric\n",
    "for feature in non_numeric_columns_X:\n",
    "    X[feature] = X[feature].astype('category').cat.codes\n",
    "    X_test[feature] = X_test[feature].astype('category').cat.codes\n",
    "\n",
    "# Fill remaining missing values with -999\n",
    "X.fillna(-999, inplace=True)\n",
    "X_test.fillna(-999, inplace=True)\n",
    "\n",
    "# Check if columns in X_test match those in X\n",
    "if not X.columns.equals(X_test.columns):\n",
    "    missing_cols = [col for col in X.columns if col not in X_test.columns]\n",
    "    extra_cols = [col for col in X_test.columns if col not in X.columns]\n",
    "    \n",
    "    if missing_cols:\n",
    "        print(f\"Missing columns in X_test: {missing_cols}\")\n",
    "    if extra_cols:\n",
    "        print(f\"Extra columns in X_test: {extra_cols}\")\n",
    "else:\n",
    "    print(\"Columns in X and X_test match.\")\n",
    "\n",
    "# Split the training data into training and validation sets\n",
    "X_train, X_val, y_train, y_val = train_test_split(X, y, test_size=0.2, random_state=42)\n",
    "\n",
    "# Initialize and train the model\n",
    "model = RandomForestClassifier(n_estimators=100, random_state=42)\n",
    "model.fit(X_train, y_train)\n",
    "\n",
    "# Validate the model\n",
    "y_val_pred = model.predict_proba(X_val)[:, 1]\n",
    "auc_score = roc_auc_score(y_val, y_val_pred)\n",
    "print(f'Validation AUC Score: {auc_score}')\n",
    "\n",
    "# Predict on the test set\n",
    "test_predictions = model.predict_proba(X_test)[:, 1]\n",
    "\n",
    "# Prepare submission DataFrame\n",
    "submission = pd.DataFrame({\n",
    "    'TransactionID': test_data['TransactionID'],\n",
    "    'isFraud': test_predictions\n",
    "})\n",
    "\n",
    "# Save to CSV\n",
    "submission.to_csv('submissionFraud.csv', index=False)\n"
   ]
  },
  {
   "cell_type": "code",
   "execution_count": null,
   "id": "8fa29f65-c2e3-4d9c-a491-73e4759f7bb2",
   "metadata": {},
   "outputs": [],
   "source": []
  }
 ],
 "metadata": {
  "kernelspec": {
   "display_name": "Python 3 (ipykernel)",
   "language": "python",
   "name": "python3"
  },
  "language_info": {
   "codemirror_mode": {
    "name": "ipython",
    "version": 3
   },
   "file_extension": ".py",
   "mimetype": "text/x-python",
   "name": "python",
   "nbconvert_exporter": "python",
   "pygments_lexer": "ipython3",
   "version": "3.8.19"
  }
 },
 "nbformat": 4,
 "nbformat_minor": 5
}
